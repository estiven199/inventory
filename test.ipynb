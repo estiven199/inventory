{
 "cells": [
  {
   "cell_type": "code",
   "execution_count": null,
   "metadata": {},
   "outputs": [],
   "source": [
    "# Se usa para crear el token de acceso.\n",
    "import requests\n",
    "import json\n",
    "headers = {\n",
    "    'x-token':\"gAAAAABjm11ka8Kh5AgxWxB12Awwh31fe83qGs1TLG5atIHFBBZmabjFufJ3-J1SIRkv2n2i3VwNXgqk3tbfzUznlQOF0xKErA==\",\n",
    "    'x-api-key':\"gAAAAABjm4YLsCwWHqZXSNZr6PCEuBSIGChznJjWGWJSBJcwkCBENNM5gi0u791D773Rynov4T10LwwfAfM2cECzOJlkSK8bgehtmmdUAlSBy5a8N3HIl0w=\",\n",
    "    'x-secret-id':\"gAAAAABjm120N7cjeEbPm48tI1kcfaxW9fuK2K1O56ylLBiXFyMQkKESnXgsKCmEs2qg3t2ACtmjtnavmg8K_t58PlsKfHZ2azWt5lrpqd0mlKkR-oFLBV4=\",\n",
    "    'user-id':\"gAAAAABj4_Pn_TGye9V3YWTRfJo1HZAGEWVHy98Bf1XihDY7orahtgr4uv8XVWTp7KiwSHGJxVE5Jy_aPzzds88EYkx_yH5tXg==\"\n",
    "}\n",
    "r_token = requests.post('http://127.0.0.1:8000/api/v1/login/access-token',headers=headers)\n",
    "r_token = json.loads(r_token.text)\n",
    "r_token"
   ]
  },
  {
   "cell_type": "code",
   "execution_count": null,
   "metadata": {},
   "outputs": [],
   "source": [
    "# Se usa para crear algunos eventos de prueba.\n",
    "import requests\n",
    "headers = {'token': r_token['access_token']}\n",
    "r1 = requests.post('http://127.0.0.1:8000/api/v1/genetare_data',headers=headers)\n",
    "r1 = json.loads(r1.text)\n",
    "r1"
   ]
  },
  {
   "cell_type": "code",
   "execution_count": null,
   "metadata": {},
   "outputs": [],
   "source": [
    "# Se usa para crear un evento.\n",
    "import requests\n",
    "headers = {'token': r_token['access_token']}\n",
    "data = {\n",
    "    \"name\": \"string\",\n",
    "    \"type\": \"solicitud\",\n",
    "    \"description\": \"string\"\n",
    "}\n",
    "r1 = requests.post('http://127.0.0.1:8000/api/v1/events',headers=headers,json=data)\n",
    "r1 = json.loads(r1.text)\n",
    "r1"
   ]
  },
  {
   "cell_type": "code",
   "execution_count": null,
   "metadata": {},
   "outputs": [],
   "source": [
    "# Se usa para buscar todos los eventos. También se puede filtrar la búsqueda por algunos campos.\n",
    "import requests\n",
    "headers = {'token': r_token['access_token']}\n",
    "params = {}\n",
    "r1 = requests.get('http://127.0.0.1:8000/api/v1/events',headers=headers, params=params)\n",
    "r1 = json.loads(r1.text)\n",
    "r1"
   ]
  },
  {
   "cell_type": "code",
   "execution_count": null,
   "metadata": {},
   "outputs": [],
   "source": [
    "# Se usa para buscar un solo evento por el event_id.\n",
    "import requests\n",
    "headers = {'token': r_token['access_token']}\n",
    "r1 = requests.get('http://127.0.0.1:8000/api/v1/events/63e4fb00fc658bca6378b585', headers=headers)\n",
    "r1 = json.loads(r1.text)\n",
    "r1"
   ]
  },
  {
   "cell_type": "code",
   "execution_count": null,
   "metadata": {},
   "outputs": [],
   "source": [
    "# Se usa para modificar un evento.\n",
    "import requests\n",
    "headers = {'token': r_token['access_token']}\n",
    "data = {\n",
    "    \"name\": \"Carro\",\n",
    "}\n",
    "r1 = requests.put('http://127.0.0.1:8000/api/v1/events/63e4faa031061b0e632c4cf1', headers=headers, json=data)\n",
    "r1 = json.loads(r1.text)\n",
    "r1"
   ]
  },
  {
   "cell_type": "code",
   "execution_count": null,
   "metadata": {},
   "outputs": [],
   "source": [
    "# Se usa para eliminar un evento.\n",
    "import requests\n",
    "headers = {'token': r_token['access_token']}\n",
    "r1 = requests.delete('http://127.0.0.1:8000/api/v1/events/63e4faa031061b0e632c4cf1', headers=headers)\n",
    "r1 = json.loads(r1.text)\n",
    "r1"
   ]
  },
  {
   "cell_type": "code",
   "execution_count": null,
   "metadata": {},
   "outputs": [],
   "source": [
    "# Se usa para marcar un evento como revisado.\n",
    "import requests\n",
    "headers = {'token': r_token['access_token']}\n",
    "r1 = requests.put('http://127.0.0.1:8000/api/v1/events/mark_as_check/63e53d9b9c76d30d2d554476', headers=headers)\n",
    "r1 = json.loads(r1.text)\n",
    "r1"
   ]
  }
 ],
 "metadata": {
  "kernelspec": {
   "display_name": "Python 3",
   "language": "python",
   "name": "python3"
  },
  "language_info": {
   "codemirror_mode": {
    "name": "ipython",
    "version": 3
   },
   "file_extension": ".py",
   "mimetype": "text/x-python",
   "name": "python",
   "nbconvert_exporter": "python",
   "pygments_lexer": "ipython3",
   "version": "3.10.7"
  },
  "orig_nbformat": 4,
  "vscode": {
   "interpreter": {
    "hash": "ab29b9e463cab48499c30f3ce432b4fb35a62ad7f3a68cb6d8e8a614892e7f19"
   }
  }
 },
 "nbformat": 4,
 "nbformat_minor": 2
}
