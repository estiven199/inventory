{
 "cells": [
  {
   "cell_type": "code",
   "execution_count": 9,
   "metadata": {},
   "outputs": [
    {
     "data": {
      "text/plain": [
       "{'access_token': 'eyJhbGciOiJIUzI1NiIsInR5cCI6IkpXVCJ9.eyJ4X3Rva2VuIjoiZ0FBQUFBQmptMTFrYThLaDVBZ3hXeEIxMkF3d2gzMWZlODNxR3MxVExHNWF0SUhGQkJabWFiakZ1ZkozLUoxU0lSa3YybjJpM1Z3TlhncWszdGJmelV6bmxRT0YweEtFckE9PSIsInhfYXBpX2tleSI6ImdBQUFBQUJqbTRZTHNDd1dIcVpYU05acjZQQ0V1QlNJR0Noem5KaldHV0pTQkpjd2tDQkVOTk01Z2kwdTc5MUQ3NzNSeW5vdjRUMTBMd3dmQWZNMmNFQ3pPSmxrU0s4YmdlaHRtbWRVQWxTQnk1YThOM0hJbDB3PSIsInhfc2VjcmV0X2lkIjoiZ0FBQUFBQmptMTIwTjdjamVFYlBtNDh0STFrY2ZheFc5ZnVLMksxTzU2eWxMQmlYRnlNUWtLRVNuWGdzS0NtRXMycWczdDJBQ3RtanRuYXZtZzhLX3Q1OFBsc0tmSFoyYXpXdDVscnBxZDBtbEtrUi1vRkxCVjQ9IiwidXNlcl9pZCI6ImdBQUFBQUJqNF9Qbl9UR3llOVYzWVdUUmZKbzFIWkFHRVdWSHk5OEJmMVhpaERZN29yYWh0Z3I0dXY4WFZXVHA3S2l3U0hHSnhWRTVKeV9hUHp6ZHM4OEVZa3hfeUg1dFhnPT0iLCJleHAiOjE2NzY2NjM1Mjd9.nplIelsPsEJ38KB-EIjhvpTYKCEIlCN6eZdAaQcN7Fw',\n",
       " 'token_type': 'bearer'}"
      ]
     },
     "execution_count": 9,
     "metadata": {},
     "output_type": "execute_result"
    }
   ],
   "source": [
    "# Se usa para crear el token\n",
    "import requests\n",
    "import json\n",
    "headers = {\n",
    "    'x-token':\"gAAAAABjm11ka8Kh5AgxWxB12Awwh31fe83qGs1TLG5atIHFBBZmabjFufJ3-J1SIRkv2n2i3VwNXgqk3tbfzUznlQOF0xKErA==\",\n",
    "    'x-api-key':\"gAAAAABjm4YLsCwWHqZXSNZr6PCEuBSIGChznJjWGWJSBJcwkCBENNM5gi0u791D773Rynov4T10LwwfAfM2cECzOJlkSK8bgehtmmdUAlSBy5a8N3HIl0w=\",\n",
    "    'x-secret-id':\"gAAAAABjm120N7cjeEbPm48tI1kcfaxW9fuK2K1O56ylLBiXFyMQkKESnXgsKCmEs2qg3t2ACtmjtnavmg8K_t58PlsKfHZ2azWt5lrpqd0mlKkR-oFLBV4=\",\n",
    "    'user-id':\"gAAAAABj4_Pn_TGye9V3YWTRfJo1HZAGEWVHy98Bf1XihDY7orahtgr4uv8XVWTp7KiwSHGJxVE5Jy_aPzzds88EYkx_yH5tXg==\"\n",
    "}\n",
    "r_token = requests.post('http://127.0.0.1:8000/api/v1/login/access-token',headers=headers)\n",
    "r_token = json.loads(r_token.text)\n",
    "r_token\n"
   ]
  },
  {
   "cell_type": "code",
   "execution_count": 11,
   "metadata": {},
   "outputs": [
    {
     "data": {
      "text/plain": [
       "\"[{'name': 'AGP156', 'type': 'solicitud', 'description': 'Auditar el  aceites Girasol de 3 litros en el punto de venta 156'}, {'name': 'AGP156', 'type': 'revision', 'description': 'Revisar la auditoria el Aceite Girasol de 3 litros del punto de venta 156'}, {'name': 'AGP156', 'type': 'aprobacion', 'description': 'Aprobar la revision de la auditoria del Aceite Girasol de 3 litros del punto de venta 156'}]\""
      ]
     },
     "execution_count": 11,
     "metadata": {},
     "output_type": "execute_result"
    }
   ],
   "source": [
    "# Crea eventos de prueba\n",
    "import requests\n",
    "headers = {'token': r_token['access_token']}\n",
    "r1 = requests.post('http://127.0.0.1:8000/api/v1/genetare_data',headers=headers)\n",
    "r1 = json.loads(r1.text)\n",
    "r1"
   ]
  },
  {
   "cell_type": "code",
   "execution_count": null,
   "metadata": {},
   "outputs": [],
   "source": [
    "# Se usas para crear un evento\n",
    "import requests\n",
    "headers = {'token': r_token['access_token']}\n",
    "data = {\n",
    "    \"name\": \"string\",\n",
    "    \"type\": \"solicitud\",\n",
    "    \"description\": \"string\"\n",
    "}\n",
    "r1 = requests.post('http://127.0.0.1:8000/api/v1/events',headers=headers,json=data)\n",
    "r1 = json.loads(r1.text)"
   ]
  },
  {
   "cell_type": "code",
   "execution_count": null,
   "metadata": {},
   "outputs": [],
   "source": [
    "#  Se usa buscar todos los eventos, o por un valor en especifico\n",
    "import requests\n",
    "headers = {'token': r_token['access_token']}\n",
    "params = {}\n",
    "r1 = requests.get('http://127.0.0.1:8000/api/v1/events',headers=headers, params=params)\n",
    "r1 = json.loads(r1.text)\n",
    "r1"
   ]
  },
  {
   "cell_type": "code",
   "execution_count": null,
   "metadata": {},
   "outputs": [],
   "source": [
    "#  Se usa para buscar un solo evento por el event_id.\n",
    "import requests\n",
    "headers = {'token': r_token['access_token']}\n",
    "r1 = requests.get('http://127.0.0.1:8000/api/v1/events/63e4fb00fc658bca6378b585', headers=headers)\n",
    "r1 = json.loads(r1.text)\n",
    "r1"
   ]
  },
  {
   "cell_type": "code",
   "execution_count": null,
   "metadata": {},
   "outputs": [],
   "source": [
    "#  Se usa para modificar un evento.\n",
    "import requests\n",
    "headers = {'token': r_token['access_token']}\n",
    "data = {\n",
    "    \"name\": \"Carro\",\n",
    "}\n",
    "r1 = requests.put('http://127.0.0.1:8000/api/v1/events/63e4faa031061b0e632c4cf1', headers=headers, json=data)\n",
    "r1 = json.loads(r1.text)\n",
    "r1"
   ]
  },
  {
   "cell_type": "code",
   "execution_count": null,
   "metadata": {},
   "outputs": [],
   "source": [
    "#  Se usa para eliminar un evento.\n",
    "import requests\n",
    "headers = {'token': r_token['access_token']}\n",
    "r1 = requests.delete('http://127.0.0.1:8000/api/v1/events/63e4faa031061b0e632c4cf1', headers=headers)\n",
    "r1 = json.loads(r1.text)\n",
    "r1"
   ]
  },
  {
   "cell_type": "code",
   "execution_count": 8,
   "metadata": {},
   "outputs": [
    {
     "data": {
      "text/plain": [
       "{'id': '63e53d9b9c76d30d2d554476',\n",
       " 'name': 'AGP156',\n",
       " 'type': 'aprobacion',\n",
       " 'description': 'Aprobar la revision de la auditoria del Aceite Girasol de 3 litros del punto de venta 156',\n",
       " 'date': '2023-02-09 13:38:19',\n",
       " 'status': 'revisada',\n",
       " 'management': False}"
      ]
     },
     "execution_count": 8,
     "metadata": {},
     "output_type": "execute_result"
    }
   ],
   "source": [
    "#  Para marcar un evento como revisado.\n",
    "import requests\n",
    "headers = {'token': r_token['access_token']}\n",
    "r1 = requests.put('http://127.0.0.1:8000/api/v1/events/mark_as_check/63e53d9b9c76d30d2d554476', headers=headers)\n",
    "r1 = json.loads(r1.text)\n",
    "r1"
   ]
  },
  {
   "cell_type": "code",
   "execution_count": null,
   "metadata": {},
   "outputs": [],
   "source": []
  },
  {
   "cell_type": "code",
   "execution_count": null,
   "metadata": {},
   "outputs": [],
   "source": []
  }
 ],
 "metadata": {
  "kernelspec": {
   "display_name": "Python 3",
   "language": "python",
   "name": "python3"
  },
  "language_info": {
   "codemirror_mode": {
    "name": "ipython",
    "version": 3
   },
   "file_extension": ".py",
   "mimetype": "text/x-python",
   "name": "python",
   "nbconvert_exporter": "python",
   "pygments_lexer": "ipython3",
   "version": "3.10.7"
  },
  "orig_nbformat": 4,
  "vscode": {
   "interpreter": {
    "hash": "ab29b9e463cab48499c30f3ce432b4fb35a62ad7f3a68cb6d8e8a614892e7f19"
   }
  }
 },
 "nbformat": 4,
 "nbformat_minor": 2
}
