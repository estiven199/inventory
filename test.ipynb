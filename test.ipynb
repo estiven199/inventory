{
 "cells": [
  {
   "cell_type": "code",
   "execution_count": 9,
   "metadata": {},
   "outputs": [],
   "source": [
    "# Se usa para crear el token\n",
    "import requests\n",
    "import json\n",
    "headers = {\n",
    "    'x-token':\"gAAAAABjm11ka8Kh5AgxWxB12Awwh31fe83qGs1TLG5atIHFBBZmabjFufJ3-J1SIRkv2n2i3VwNXgqk3tbfzUznlQOF0xKErA==\",\n",
    "    'x-api-key':\"gAAAAABjm4YLsCwWHqZXSNZr6PCEuBSIGChznJjWGWJSBJcwkCBENNM5gi0u791D773Rynov4T10LwwfAfM2cECzOJlkSK8bgehtmmdUAlSBy5a8N3HIl0w=\",\n",
    "    'x-secret-id':\"gAAAAABjm120N7cjeEbPm48tI1kcfaxW9fuK2K1O56ylLBiXFyMQkKESnXgsKCmEs2qg3t2ACtmjtnavmg8K_t58PlsKfHZ2azWt5lrpqd0mlKkR-oFLBV4=\",\n",
    "    'user-id':\"gAAAAABj4_Pn_TGye9V3YWTRfJo1HZAGEWVHy98Bf1XihDY7orahtgr4uv8XVWTp7KiwSHGJxVE5Jy_aPzzds88EYkx_yH5tXg==\"\n",
    "}\n",
    "r_token = requests.post('http://127.0.0.1:8000/api/v1/login/access-token',headers=headers)\n",
    "r_token = json.loads(r_token.text)"
   ]
  },
  {
   "cell_type": "code",
   "execution_count": 10,
   "metadata": {},
   "outputs": [],
   "source": [
    "# Se usas para crear un evento\n",
    "import requests\n",
    "headers = {'token': r_token['access_token']}\n",
    "data = {\n",
    "    \"name\": \"string\",\n",
    "    \"type\": \"solicitud\",\n",
    "    \"description\": \"string\"\n",
    "}\n",
    "r1 = requests.post('http://127.0.0.1:8000/api/v1/events',headers=headers,json=data)\n",
    "r1 = json.loads(r1.text)"
   ]
  },
  {
   "cell_type": "code",
   "execution_count": 11,
   "metadata": {},
   "outputs": [],
   "source": [
    "#  Se usa buscar todos los eventos, o por un valor en especifico\n",
    "import requests\n",
    "headers = {'token': r_token['access_token']}\n",
    "params = {}\n",
    "r1 = requests.get('http://127.0.0.1:8000/api/v1/events',headers=headers, params=params)\n",
    "r1 = json.loads(r1.text)"
   ]
  },
  {
   "cell_type": "code",
   "execution_count": 12,
   "metadata": {},
   "outputs": [
    {
     "data": {
      "text/plain": [
       "{'id': '63e4fad8de1b9b3a00295c11',\n",
       " 'name': 'CamisaTallaL',\n",
       " 'type': 'solicitud',\n",
       " 'description': 'string',\n",
       " 'date': '2023-02-09 08:53:28',\n",
       " 'status': 'pendiente'}"
      ]
     },
     "execution_count": 12,
     "metadata": {},
     "output_type": "execute_result"
    }
   ],
   "source": [
    "#  Se usa para buscar un solo evento por el event_id.\n",
    "import requests\n",
    "headers = {'token': r_token['access_token']}\n",
    "r1 = requests.get('http://127.0.0.1:8000/api/v1/events/63e4fad8de1b9b3a00295c11', headers=headers)\n",
    "r1 = json.loads(r1.text)\n",
    "r1"
   ]
  },
  {
   "cell_type": "code",
   "execution_count": 15,
   "metadata": {},
   "outputs": [
    {
     "data": {
      "text/plain": [
       "{'detail': 'The event cannot be modified.'}"
      ]
     },
     "execution_count": 15,
     "metadata": {},
     "output_type": "execute_result"
    }
   ],
   "source": [
    "#  Se usa para modificar un evento.\n",
    "import requests\n",
    "headers = {'token': r_token['access_token']}\n",
    "data = {\n",
    "    \"name\": \"Carro\",\n",
    "}\n",
    "r1 = requests.put('http://127.0.0.1:8000/api/v1/events/63e4faa031061b0e632c4cf1', headers=headers, json=data)\n",
    "r1 = json.loads(r1.text)\n",
    "r1"
   ]
  },
  {
   "cell_type": "code",
   "execution_count": null,
   "metadata": {},
   "outputs": [],
   "source": []
  }
 ],
 "metadata": {
  "kernelspec": {
   "display_name": "Python 3",
   "language": "python",
   "name": "python3"
  },
  "language_info": {
   "codemirror_mode": {
    "name": "ipython",
    "version": 3
   },
   "file_extension": ".py",
   "mimetype": "text/x-python",
   "name": "python",
   "nbconvert_exporter": "python",
   "pygments_lexer": "ipython3",
   "version": "3.10.7"
  },
  "orig_nbformat": 4,
  "vscode": {
   "interpreter": {
    "hash": "ab29b9e463cab48499c30f3ce432b4fb35a62ad7f3a68cb6d8e8a614892e7f19"
   }
  }
 },
 "nbformat": 4,
 "nbformat_minor": 2
}
