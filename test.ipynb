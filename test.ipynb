{
 "cells": [
  {
   "cell_type": "code",
   "execution_count": 4,
   "metadata": {},
   "outputs": [
    {
     "data": {
      "text/plain": [
       "'{\"access_token\":\"eyJhbGciOiJIUzI1NiIsInR5cCI6IkpXVCJ9.eyJ4X3Rva2VuIjoiZ0FBQUFBQmptMTFrYThLaDVBZ3hXeEIxMkF3d2gzMWZlODNxR3MxVExHNWF0SUhGQkJabWFiakZ1ZkozLUoxU0lSa3YybjJpM1Z3TlhncWszdGJmelV6bmxRT0YweEtFckE9PSIsInhfYXBpX2tleSI6ImdBQUFBQUJqbTRZTHNDd1dIcVpYU05acjZQQ0V1QlNJR0Noem5KaldHV0pTQkpjd2tDQkVOTk01Z2kwdTc5MUQ3NzNSeW5vdjRUMTBMd3dmQWZNMmNFQ3pPSmxrU0s4YmdlaHRtbWRVQWxTQnk1YThOM0hJbDB3IiwieF9zZWNyZXRfaWQiOiJnQUFBQUFCam0xMjBON2NqZUViUG00OHRJMWtjZmF4VzlmdUsySzFPNTZ5bExCaVhGeU1Ra0tFU25YZ3NLQ21FczJxZzN0MkFDdG1qdG5hdm1nOEtfdDU4UGxzS2ZIWjJheld0NWxycHFkMG1sS2tSLW9GTEJWND0iLCJleHAiOjE2NzY1NzMxMTl9.s7vhZ9DM4TzT89AR4317NYowZyzrDcTM8yVOIlb11yM\",\"token_type\":\"bearer\"}'"
      ]
     },
     "execution_count": 4,
     "metadata": {},
     "output_type": "execute_result"
    }
   ],
   "source": [
    "import requests\n",
    "\n",
    "headers = {\n",
    "    'x-token':\"gAAAAABjm11ka8Kh5AgxWxB12Awwh31fe83qGs1TLG5atIHFBBZmabjFufJ3-J1SIRkv2n2i3VwNXgqk3tbfzUznlQOF0xKErA==\",\n",
    "    'x-api-key':\"gAAAAABjm4YLsCwWHqZXSNZr6PCEuBSIGChznJjWGWJSBJcwkCBENNM5gi0u791D773Rynov4T10LwwfAfM2cECzOJlkSK8bgehtmmdUAlSBy5a8N3HIl0w\",\n",
    "    'x-secret-id':\"gAAAAABjm120N7cjeEbPm48tI1kcfaxW9fuK2K1O56ylLBiXFyMQkKESnXgsKCmEs2qg3t2ACtmjtnavmg8K_t58PlsKfHZ2azWt5lrpqd0mlKkR-oFLBV4=\"\n",
    "}\n",
    "\n",
    "r = requests.post('http://127.0.0.1:8000/api/v1/login/access-token',headers=headers)\n",
    "r.text"
   ]
  },
  {
   "cell_type": "code",
   "execution_count": null,
   "metadata": {},
   "outputs": [],
   "source": []
  }
 ],
 "metadata": {
  "kernelspec": {
   "display_name": "Python 3",
   "language": "python",
   "name": "python3"
  },
  "language_info": {
   "codemirror_mode": {
    "name": "ipython",
    "version": 3
   },
   "file_extension": ".py",
   "mimetype": "text/x-python",
   "name": "python",
   "nbconvert_exporter": "python",
   "pygments_lexer": "ipython3",
   "version": "3.10.7"
  },
  "orig_nbformat": 4,
  "vscode": {
   "interpreter": {
    "hash": "ab29b9e463cab48499c30f3ce432b4fb35a62ad7f3a68cb6d8e8a614892e7f19"
   }
  }
 },
 "nbformat": 4,
 "nbformat_minor": 2
}
